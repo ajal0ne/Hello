{
  "nbformat": 4,
  "nbformat_minor": 0,
  "metadata": {
    "colab": {
      "name": "Untitled0.ipynb",
      "provenance": [],
      "history_visible": true,
      "include_colab_link": true
    },
    "kernelspec": {
      "name": "python3",
      "display_name": "Python 3"
    },
    "language_info": {
      "name": "python"
    }
  },
  "cells": [
    {
      "cell_type": "markdown",
      "metadata": {
        "id": "view-in-github",
        "colab_type": "text"
      },
      "source": [
        "<a href=\"https://colab.research.google.com/github/ajal0ne/Python-Programs/blob/master/cf.ipynb\" target=\"_parent\"><img src=\"https://colab.research.google.com/assets/colab-badge.svg\" alt=\"Open In Colab\"/></a>"
      ]
    },
    {
      "cell_type": "markdown",
      "metadata": {
        "id": "x2ImGjAosbY8"
      },
      "source": [
        "Write a python program to print common factors of two numbers \n",
        "\n",
        "input :                                        \n",
        "    num1=10                             \n",
        "    num2=15   \n",
        "\n",
        "output : \n",
        "    5\n",
        "\n",
        "\n",
        "input :                               \n",
        "   num1=10                                 \n",
        "   num2=20                                             \n",
        "output : \n",
        "    2 5"
      ]
    },
    {
      "cell_type": "code",
      "metadata": {
        "id": "nRjExemosUFa",
        "outputId": "84254d51-2711-428e-bd8e-84920c5741ec",
        "colab": {
          "base_uri": "https://localhost:8080/"
        }
      },
      "source": [
        "def cf(a,b):\n",
        "  n=[]\n",
        "  for i in range(2,min(a,b)):\n",
        "    if a%i==b%i==0:\n",
        "      n.append(i)\n",
        "  return n\n",
        "x=int(input(\"Num1=\"))\n",
        "y=int(input(\"Num2=\"))\n",
        "print(cf(x,y))\n"
      ],
      "execution_count": 2,
      "outputs": [
        {
          "output_type": "stream",
          "text": [
            "Num1=10\n",
            "Num2=20\n",
            "[2, 5]\n"
          ],
          "name": "stdout"
        }
      ]
    }
  ]
}